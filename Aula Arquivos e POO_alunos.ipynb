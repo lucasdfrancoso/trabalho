{
 "cells": [
  {
   "cell_type": "markdown",
   "metadata": {},
   "source": [
    "# Trabalhando com arquivos"
   ]
  },
  {
   "cell_type": "markdown",
   "metadata": {},
   "source": [
    "Para abrir um arquivo, o Python possui a função **open()**. <br>\n",
    "Ela recebe dois parâmetros: o primeiro é o nome do arquivo a ser aberto, e o segundo parâmetro é o modo que queremos trabalhar com esse arquivo - se queremos ler ou escrever. <br>\n",
    "O modo é passado através de uma string: \"w\" (abreviação para write) para escrita e \"r\" (abreviação para read) para leitura."
   ]
  },
  {
   "cell_type": "markdown",
   "metadata": {},
   "source": [
    "### Abrindo arquivo para gração"
   ]
  },
  {
   "cell_type": "code",
   "execution_count": 2,
   "metadata": {},
   "outputs": [],
   "source": [
    "arquivo = open('palavras.txt', 'w')"
   ]
  },
  {
   "cell_type": "markdown",
   "metadata": {},
   "source": [
    "O modo é opcional e o modo padrão é o \"r\" de leitura (reading).<br>\n",
    "O arquivo criado se chama 'palavras.txt' e está no modo de escrita.<br>\n",
    "É importante saber que o modo de escrita sobrescreve o arquivo, se o mesmo existir. <br>\n",
    "Se a intenção é apenas adicionar conteúdo ao arquivo, utilizamos o **modo \"a\"** (abreviação para append)."
   ]
  },
  {
   "cell_type": "markdown",
   "metadata": {},
   "source": [
    "Vamos escrever algum conteúdo no arquivo, para isso basta chamar a função write() passando o contéudo a ser escrito no arquivo:"
   ]
  },
  {
   "cell_type": "code",
   "execution_count": 3,
   "metadata": {},
   "outputs": [
    {
     "data": {
      "text/plain": [
       "3"
      ]
     },
     "execution_count": 3,
     "metadata": {},
     "output_type": "execute_result"
    }
   ],
   "source": [
    "arquivo.write('FIB')"
   ]
  },
  {
   "cell_type": "code",
   "execution_count": 4,
   "metadata": {},
   "outputs": [
    {
     "data": {
      "text/plain": [
       "6"
      ]
     },
     "execution_count": 4,
     "metadata": {},
     "output_type": "execute_result"
    }
   ],
   "source": [
    "arquivo.write('Python')"
   ]
  },
  {
   "cell_type": "markdown",
   "metadata": {},
   "source": [
    "Note que essa função retorna o número de caracteres de cada texto adicionado no arquivo."
   ]
  },
  {
   "cell_type": "markdown",
   "metadata": {},
   "source": [
    "### Fechando o arquivo"
   ]
  },
  {
   "cell_type": "markdown",
   "metadata": {},
   "source": [
    "Ao lidar com arquivos, devemos sempre nos preocupar em fechá-lo. <br>\n",
    "Para isso usamos a função **close()**"
   ]
  },
  {
   "cell_type": "code",
   "execution_count": 5,
   "metadata": {},
   "outputs": [],
   "source": [
    "arquivo.close()"
   ]
  },
  {
   "cell_type": "markdown",
   "metadata": {},
   "source": [
    "Após fecharmos o arquivo podemos verificar o seu conteúdo.<br>\n",
    "Repare que:\n",
    "- Ele foi criado na mesma pasta em que o comando para abrir foi executado. \n",
    "- Se você tentar fechar um arquivo que já está fechado, não vai surtir efeito algum, nem mesmo um erro.\n",
    "- As palavras foram escritas em uma mesma linha."
   ]
  },
  {
   "cell_type": "markdown",
   "metadata": {},
   "source": [
    "### Escrevendo em novas linhas"
   ]
  },
  {
   "cell_type": "markdown",
   "metadata": {},
   "source": [
    "Vamos abrir o arquivo novamente, dessa vez utilizando o modo 'a', de append, evitando assim a sua sobreescrita."
   ]
  },
  {
   "cell_type": "code",
   "execution_count": 6,
   "metadata": {},
   "outputs": [],
   "source": [
    "arquivo = open('palavras.txt', 'a')"
   ]
  },
  {
   "cell_type": "markdown",
   "metadata": {},
   "source": [
    "Vamos adicionar conteúdo ao arquivo, mas nos preocupando em **criar uma nova linha** após cada conteúdo escrito.<br>\n",
    "Para representar uma nova linha em código, adicionamos o **\\n** ao final do que queremos escrever:"
   ]
  },
  {
   "cell_type": "code",
   "execution_count": 7,
   "metadata": {
    "scrolled": true
   },
   "outputs": [
    {
     "data": {
      "text/plain": [
       "38"
      ]
     },
     "execution_count": 7,
     "metadata": {},
     "output_type": "execute_result"
    }
   ],
   "source": [
    "arquivo.write(' Bacharelado em Ciência da Computação\\n')"
   ]
  },
  {
   "cell_type": "code",
   "execution_count": 8,
   "metadata": {},
   "outputs": [
    {
     "data": {
      "text/plain": [
       "16"
      ]
     },
     "execution_count": 8,
     "metadata": {},
     "output_type": "execute_result"
    }
   ],
   "source": [
    "arquivo.write('Outubro de 2024\\n')"
   ]
  },
  {
   "cell_type": "code",
   "execution_count": 9,
   "metadata": {},
   "outputs": [],
   "source": [
    "arquivo.close()"
   ]
  },
  {
   "cell_type": "markdown",
   "metadata": {},
   "source": [
    "### LENDO UM ARQUIVO"
   ]
  },
  {
   "cell_type": "markdown",
   "metadata": {},
   "source": [
    "Para abrir o arquivo no modo de leitura, basta passar o nome do arquivo e a **letra \"r\"** para a função **open()**"
   ]
  },
  {
   "cell_type": "code",
   "execution_count": 45,
   "metadata": {},
   "outputs": [],
   "source": [
    "arquivo = open('palavras.txt', 'r')"
   ]
  },
  {
   "cell_type": "markdown",
   "metadata": {},
   "source": [
    "Diferente do modo \"w\", abrir um arquivo que não existe no modo \"r\" não vai criar um arquivo.<br>\n",
    "Se o arquivo não existir, o Python vai lançar o erro **FileNotFoundError**"
   ]
  },
  {
   "cell_type": "code",
   "execution_count": 18,
   "metadata": {},
   "outputs": [],
   "source": [
    "try:\n",
    "    arquivo = open('fib.txt', 'r')\n",
    "except FileNotFoundError:\n",
    "    print('Arquivo não encontrado!')\n",
    "    #arquivo = open('fib.txt', 'w')"
   ]
  },
  {
   "cell_type": "markdown",
   "metadata": {},
   "source": [
    "Note que, como abrimos o arquivo no modo de leitura, a função write() **não é suportada**"
   ]
  },
  {
   "cell_type": "code",
   "execution_count": 19,
   "metadata": {},
   "outputs": [
    {
     "ename": "UnsupportedOperation",
     "evalue": "not writable",
     "output_type": "error",
     "traceback": [
      "\u001b[1;31m---------------------------------------------------------------------------\u001b[0m",
      "\u001b[1;31mUnsupportedOperation\u001b[0m                      Traceback (most recent call last)",
      "Cell \u001b[1;32mIn[19], line 1\u001b[0m\n\u001b[1;32m----> 1\u001b[0m \u001b[43marquivo\u001b[49m\u001b[38;5;241;43m.\u001b[39;49m\u001b[43mwrite\u001b[49m\u001b[43m(\u001b[49m\u001b[38;5;124;43m'\u001b[39;49m\u001b[38;5;124;43mTeste gravação\u001b[39;49m\u001b[38;5;124;43m'\u001b[39;49m\u001b[43m)\u001b[49m\n",
      "\u001b[1;31mUnsupportedOperation\u001b[0m: not writable"
     ]
    }
   ],
   "source": [
    "arquivo.write('Teste gravação')"
   ]
  },
  {
   "cell_type": "markdown",
   "metadata": {},
   "source": [
    "Para ler o arquivo inteiro, utilizamos a função **read()**"
   ]
  },
  {
   "cell_type": "code",
   "execution_count": 22,
   "metadata": {},
   "outputs": [],
   "source": [
    "arquivo.close()\n",
    "arquivo = open('palavras.txt', 'r')\n",
    "linhas = arquivo.read().split('\\n')"
   ]
  },
  {
   "cell_type": "code",
   "execution_count": 23,
   "metadata": {},
   "outputs": [
    {
     "data": {
      "text/plain": [
       "['FIBPython Bacharelado em Ciência da Computação', 'Outubro de 2024', '']"
      ]
     },
     "execution_count": 23,
     "metadata": {},
     "output_type": "execute_result"
    }
   ],
   "source": [
    "linhas"
   ]
  },
  {
   "cell_type": "code",
   "execution_count": 24,
   "metadata": {
    "scrolled": true
   },
   "outputs": [
    {
     "name": "stdout",
     "output_type": "stream",
     "text": [
      "FIBPython Bacharelado em Ciência da Computação\n",
      "Outubro de 2024\n",
      "\n"
     ]
    }
   ],
   "source": [
    "for linha in linhas:\n",
    "    print(linha)"
   ]
  },
  {
   "cell_type": "markdown",
   "metadata": {},
   "source": [
    "Mas ao executar a função novamente, será retornado uma string vazia:"
   ]
  },
  {
   "cell_type": "code",
   "execution_count": 25,
   "metadata": {
    "scrolled": true
   },
   "outputs": [
    {
     "data": {
      "text/plain": [
       "''"
      ]
     },
     "execution_count": 25,
     "metadata": {},
     "output_type": "execute_result"
    }
   ],
   "source": [
    "arquivo.read()"
   ]
  },
  {
   "cell_type": "markdown",
   "metadata": {},
   "source": [
    "Isso acontece porque o arquivo é como um fluxo de linhas, que começa no início do arquivo como se fosse um cursor.<br>\n",
    "Ele vai descendo e lendo o arquivo. Após ler tudo, ele fica posicionado no final do arquivo.<br>\n",
    "Quando chamamos a função read() novamente, não há mais conteúdo pois ele todo já foi lido.<br>\n",
    "<br>\n",
    "Portanto, para ler o arquivo novamente, devemos fechá-lo e abrí-lo outra vez."
   ]
  },
  {
   "cell_type": "markdown",
   "metadata": {},
   "source": [
    "Outra opção é usar a função \"seek()\" para reposicionar o ponteiro para o conteúdo do arquivo.\n",
    "<br>\n",
    "Ela aceita dois argumentos: a posição do caracter a considerar e o local do arquivo a considerar, sendo esse último opcional. As opções do segundo argumento são: 0 = início do arquivo, 1 = posição atual e 2 - final do arquivo."
   ]
  },
  {
   "cell_type": "code",
   "execution_count": 26,
   "metadata": {},
   "outputs": [
    {
     "data": {
      "text/plain": [
       "'Python Bacharelado em Ciência da Computação\\nOutubro de 2024\\n'"
      ]
     },
     "execution_count": 26,
     "metadata": {},
     "output_type": "execute_result"
    }
   ],
   "source": [
    "arquivo.seek(3,0)\n",
    "arquivo.read()"
   ]
  },
  {
   "cell_type": "code",
   "execution_count": 27,
   "metadata": {},
   "outputs": [],
   "source": [
    "arquivo.close()"
   ]
  },
  {
   "cell_type": "markdown",
   "metadata": {},
   "source": [
    "### LENDO LINHA POR LINHA DO ARQUIVO"
   ]
  },
  {
   "cell_type": "markdown",
   "metadata": {},
   "source": [
    "Não queremos ler todo o conteúdo do arquivo mas ler linha por linha. <br>\n",
    "Como já foi visto, um arquivo é um fluxo de linhas, ou seja, uma sequência de linhas. <br>\n",
    "Sendo uma sequência, podemos utilizar um laço for para ler cada linha do arquivo"
   ]
  },
  {
   "cell_type": "code",
   "execution_count": 28,
   "metadata": {},
   "outputs": [
    {
     "name": "stdout",
     "output_type": "stream",
     "text": [
      "FIBPython Bacharelado em Ciência da Computação\n",
      "\n",
      "Outubro de 2024\n",
      "\n"
     ]
    }
   ],
   "source": [
    "arquivo = open('palavras.txt', 'r')\n",
    "for linha in arquivo:\n",
    "    print(linha)\n",
    "arquivo.close()"
   ]
  },
  {
   "cell_type": "markdown",
   "metadata": {},
   "source": [
    "Repare que existe uma linha vazia entre cada linha de dados. <br>\n",
    "Isso acontece porque estamos utilizando a função **print()** que também acrescenta, por padrão, um **\\n**. <br>\n",
    "Agora vamos utilizar outra função, a **readline()**, que lê apenas uma linha do arquivo:"
   ]
  },
  {
   "cell_type": "code",
   "execution_count": 29,
   "metadata": {},
   "outputs": [
    {
     "name": "stdout",
     "output_type": "stream",
     "text": [
      "FIBPython Bacharelado em Ciência da Computação\n",
      "\n"
     ]
    }
   ],
   "source": [
    "arquivo = open('palavras.txt','r')\n",
    "linha = arquivo.readline()\n",
    "print(linha)\n",
    "arquivo.close()"
   ]
  },
  {
   "cell_type": "markdown",
   "metadata": {},
   "source": [
    "Para tirar espaços em branco no início e no fim da string, basta utilizar a função **strip()**, que também remove caracteres especiais, como o **\\n**"
   ]
  },
  {
   "cell_type": "code",
   "execution_count": 30,
   "metadata": {},
   "outputs": [],
   "source": [
    "arquivo = open('palavras.txt','r')\n",
    "palavras = []\n",
    "for linha in arquivo:\n",
    "    linha = linha.strip() # remove caracters especiais, como o \\n\n",
    "    palavras.append(linha)\n",
    "arquivo.close()"
   ]
  },
  {
   "cell_type": "code",
   "execution_count": 31,
   "metadata": {},
   "outputs": [
    {
     "name": "stdout",
     "output_type": "stream",
     "text": [
      "['FIBPython Bacharelado em Ciência da Computação', 'Outubro de 2024']\n"
     ]
    }
   ],
   "source": [
    "print(palavras)"
   ]
  },
  {
   "cell_type": "markdown",
   "metadata": {},
   "source": [
    "### COMANDO WITH"
   ]
  },
  {
   "cell_type": "markdown",
   "metadata": {},
   "source": [
    "Para evitar que o arquivo fique aberto na ocorrência de erros, existe no Python uma sintaxe especial para abertura de arquivo."
   ]
  },
  {
   "cell_type": "code",
   "execution_count": 32,
   "metadata": {
    "scrolled": true
   },
   "outputs": [
    {
     "name": "stdout",
     "output_type": "stream",
     "text": [
      "FIBPython Bacharelado em Ciência da Computação\n",
      "\n",
      "Outubro de 2024\n",
      "\n"
     ]
    }
   ],
   "source": [
    "with open('palavras.txt','r') as arquivo:\n",
    "    for linha in arquivo:\n",
    "        print(linha)"
   ]
  },
  {
   "cell_type": "markdown",
   "metadata": {},
   "source": [
    "Repare o comando with usa a função **open()**, mas não a função **close()**. <br>\n",
    "Isso não será mais necessário, já que **o comando with vai se encarregar de fechar o arquivo** para nós, mesmo que aconteça algum erro no código dentro de seu escopo. "
   ]
  },
  {
   "cell_type": "code",
   "execution_count": null,
   "metadata": {},
   "outputs": [],
   "source": []
  },
  {
   "cell_type": "markdown",
   "metadata": {},
   "source": [
    "Gravar em um arquivo JSON"
   ]
  },
  {
   "cell_type": "code",
   "execution_count": 35,
   "metadata": {},
   "outputs": [],
   "source": [
    "import json\n",
    "# Dados a serem gravados\n",
    "data = {\n",
    "    \"host\": \"localhost\",\n",
    "    \"user\": \"root\",\n",
    "    \"password\": \"\",\n",
    "    \"db\": \"fib\",\n",
    "    \"port\": 3306\n",
    "}\n",
    "# Gravando os dados em um arquivo JSON\n",
    "with open('config.json', 'w') as json_file:\n",
    "    json.dump(data, json_file, indent=4)"
   ]
  },
  {
   "cell_type": "markdown",
   "metadata": {},
   "source": [
    "Ler de um arquivo JSON"
   ]
  },
  {
   "cell_type": "code",
   "execution_count": 36,
   "metadata": {},
   "outputs": [
    {
     "name": "stdout",
     "output_type": "stream",
     "text": [
      "{'host': 'localhost', 'user': 'root', 'password': '', 'db': 'fib', 'port': 3306}\n",
      "localhost\n",
      "root\n",
      "\n",
      "fib\n",
      "3306\n"
     ]
    }
   ],
   "source": [
    "import json\n",
    "# Lendo os dados de um arquivo JSON\n",
    "with open('config.json', 'r') as json_file:\n",
    "    data = json.load(json_file)\n",
    "\n",
    "print(data)\n",
    "\n",
    "print(data['host'])\n",
    "print(data['user'])\n",
    "print(data['password'])\n",
    "print(data['db'])\n",
    "print(data['port'])"
   ]
  },
  {
   "cell_type": "markdown",
   "metadata": {},
   "source": [
    "# Introdução ao Paradigma Orientado a Objetos (POO)"
   ]
  },
  {
   "cell_type": "markdown",
   "metadata": {},
   "source": [
    "Na programação orientada a objetos (POO), os dados específicos do objeto são estruturados juntamente com as funções que são permitidas sobre esses dados.<br>\n",
    "Essa forma de programar veio com linguagens como Java, C++ e recentemente Python dentre outras."
   ]
  },
  {
   "cell_type": "markdown",
   "metadata": {},
   "source": [
    "O elemento principal da POO são os objetos. <br>\n",
    "Dizemos que um objeto é uma instância de uma classe. <br>\n",
    "Uma Classe é constituída por variáveis (data members) e métodos ou funções da classe (function members).<br>\n",
    "A Classe é o modelo. Um objeto é um elemento deste modelo.<br>\n",
    "As variáveis de uma Classe são também chamadas de Atributos.<br>\n",
    "As funções de uma Classe são também chamadas de Métodos.<br>"
   ]
  },
  {
   "cell_type": "markdown",
   "metadata": {},
   "source": [
    "### Princípios da POO"
   ]
  },
  {
   "cell_type": "markdown",
   "metadata": {},
   "source": [
    "- **Modularidade** – dividir o sistema em pequenas partes bem definidas.\n",
    "- **Abstração** – identificar as partes fundamentais (tipos de dados e operações), definindo o que cada\n",
    "operação faz e não necessariamente como é feito.\n",
    "- **Encapsulamento** – a interface para uso de cada componente deve estar bastante clara para todos que usam esse componente. Detalhes internos de implementação não interessam.\n"
   ]
  },
  {
   "cell_type": "markdown",
   "metadata": {},
   "source": [
    "### Um exemplo de programação orientada a objeto"
   ]
  },
  {
   "cell_type": "markdown",
   "metadata": {},
   "source": [
    "Supondo que temos que desenvolver um sistema que manipula certos produtos. **O objeto em questão é o produto.** Assim, vamos criar a classe Produto, que tornará possível construir ou criar elementos ou objetos desta classe."
   ]
  },
  {
   "cell_type": "markdown",
   "metadata": {},
   "source": [
    "<b>classe: Produto<br>\n",
    "atributos: _nome, _codigo, _preco, _quantidade<br>\n",
    "métodos: obtem_nome, obtem_codigo, obtem_preco, altera_preco, altera_quantidade<br></b>"
   ]
  },
  {
   "cell_type": "markdown",
   "metadata": {},
   "source": [
    "Estamos usando uma convenção usual, onde os nomes dos identificadores ou variáveis internas (atributos) que caracterizam o objeto iniciam com underline. Não precisa ser assim. O nome pode ser qualquer."
   ]
  },
  {
   "cell_type": "markdown",
   "metadata": {},
   "source": [
    "### Hands-on"
   ]
  },
  {
   "cell_type": "markdown",
   "metadata": {},
   "source": [
    "Usando um editor de textos de sua preferências, <b>crie um módulo Python chamado aula_poo.py</b> e, dentro dele, escreva a seguinte classe:"
   ]
  },
  {
   "cell_type": "code",
   "execution_count": 42,
   "metadata": {},
   "outputs": [],
   "source": []
  },
  {
   "cell_type": "markdown",
   "metadata": {},
   "source": [
    "Importe a classe e faça os seguintes testes:"
   ]
  },
  {
   "cell_type": "code",
   "execution_count": 43,
   "metadata": {},
   "outputs": [],
   "source": []
  },
  {
   "cell_type": "code",
   "execution_count": null,
   "metadata": {},
   "outputs": [],
   "source": []
  },
  {
   "cell_type": "code",
   "execution_count": null,
   "metadata": {},
   "outputs": [],
   "source": []
  },
  {
   "cell_type": "code",
   "execution_count": null,
   "metadata": {},
   "outputs": [],
   "source": []
  },
  {
   "cell_type": "markdown",
   "metadata": {},
   "source": [
    "O nome **self** refere-se ao próprio objeto sendo criado. <br>\n",
    "Note que o primeiro parâmetro dos métodos é sempre **self** na definição. <br>\n",
    "No uso ou na chamada do método esse primeiro parâmetro não existe."
   ]
  },
  {
   "cell_type": "markdown",
   "metadata": {},
   "source": [
    "### Uso e declaração dos métodos"
   ]
  },
  {
   "cell_type": "markdown",
   "metadata": {},
   "source": [
    "Quando o método é declarado o primeiro parâmetro sempre é self. <br>\n",
    "Entretanto nas chamadas omite-se esse parâmetro. "
   ]
  },
  {
   "cell_type": "markdown",
   "metadata": {},
   "source": [
    "**Declaração:**<br>\n",
    "def altera_preco(self, novo_preco):"
   ]
  },
  {
   "cell_type": "markdown",
   "metadata": {},
   "source": [
    "**Uso:** <br>\n",
    "altera_preco(40.00):"
   ]
  },
  {
   "cell_type": "markdown",
   "metadata": {},
   "source": [
    "### O método construtor"
   ]
  },
  {
   "cell_type": "markdown",
   "metadata": {},
   "source": [
    "__init__ é um método especial dentro da classe. <br>\n",
    "É construtor da classe, onde os atributos do objeto recebem seus valores iniciais. <br>\n",
    "No caso da classe acima, os 4 atributos (variáveis da classe) que caracterizam um produto, recebem neste método seus valores iniciais, que podem ser modificados por operações futuras deste mesmo objeto. <br>\n",
    "<br>\n",
    "A criação de um novo produto, ou seja, a criação de uma instância do objeto produto causa a execução do método __init__. <br>\n",
    "Assim, o comando abaixo, causa a execução do método __init__:"
   ]
  },
  {
   "cell_type": "code",
   "execution_count": null,
   "metadata": {},
   "outputs": [],
   "source": []
  },
  {
   "cell_type": "markdown",
   "metadata": {},
   "source": [
    "## Herança de classes"
   ]
  },
  {
   "cell_type": "markdown",
   "metadata": {},
   "source": [
    "O conceito de herança permite que uma classe seja definida com base em classe já existente. <br>Dizemos que essa nova classe herda características da classe original. <br>\n",
    "Na terminologia de POO, a classe original é chamada de Classe Base, Classe Mãe ou Superclasse (Base, Parent ou Super Class) enquanto que a nova é chamada de Classe Especializada (ou especialista), SubClasse ou Classe Filha.\n",
    "<br>\n",
    "<br>\n",
    "A subclasse pode especializar a classe principal ou mesmo estendê-la com novos métodos e atributos.\n"
   ]
  },
  {
   "cell_type": "markdown",
   "metadata": {},
   "source": [
    "Como exemplo, vamos estender a classe Produto, construindo a classe **Produto Crítico**. \n",
    "<br>\n",
    "Esta nova classe possui um parâmetro a mais que é o estoque mínimo para esses produtos críticos, além de:\n",
    "<ul>\n",
    "    <li>O estoque não pode ficar abaixo deste limite. <br>\n",
    "    <li>Uma venda que invada esse limite é rejeitada. <br>\n",
    "    <li>Outra característica destes produtos críticos é não permitir alteração de preço maior que 10% acima ou abaixo.\n",
    "</ul>"
   ]
  },
  {
   "cell_type": "markdown",
   "metadata": {},
   "source": [
    "Assim, faremos a nova __init__ com um parâmetro a mais e reescrevemos as funções altera_quantidade e altera_preco.<br>\n",
    "Não é preciso reescrevê-las completamente. Podemos chamar a função correspondente da classe mãe quando necessário."
   ]
  },
  {
   "cell_type": "markdown",
   "metadata": {},
   "source": [
    "### Hands-on"
   ]
  },
  {
   "cell_type": "markdown",
   "metadata": {},
   "source": [
    "Inclua a classe abaixo no módulo aula_poo.py previamente criado."
   ]
  },
  {
   "cell_type": "code",
   "execution_count": null,
   "metadata": {},
   "outputs": [],
   "source": []
  },
  {
   "cell_type": "markdown",
   "metadata": {},
   "source": [
    "Apos implementar a nova classe em aula_poo.py, reinicie o kernel do seu Notebook, importe e teste a nova classe."
   ]
  },
  {
   "cell_type": "code",
   "execution_count": 47,
   "metadata": {},
   "outputs": [],
   "source": []
  },
  {
   "cell_type": "code",
   "execution_count": null,
   "metadata": {},
   "outputs": [],
   "source": []
  },
  {
   "cell_type": "code",
   "execution_count": null,
   "metadata": {},
   "outputs": [],
   "source": []
  },
  {
   "cell_type": "code",
   "execution_count": null,
   "metadata": {},
   "outputs": [],
   "source": [
    "\n"
   ]
  },
  {
   "cell_type": "markdown",
   "metadata": {},
   "source": [
    "## Cópias"
   ]
  },
  {
   "cell_type": "markdown",
   "metadata": {},
   "source": [
    "Comandos de atribuição do tipo x = y, apenas criam sinônimos, ou seja, x e y referenciam o mesmo objeto. <br>\n",
    "Isso deve ser levado em conta se x e y são objetos mais complexos, compostos por objetos mutáveis. <br>\n",
    "Quando for necessário obtermos uma cópia real de um objeto, funções especiais tem que ser usadas."
   ]
  },
  {
   "cell_type": "markdown",
   "metadata": {},
   "source": [
    "No código abaixo, a atribuição de uma instância de objeto a uma variável não faz uma cópia, apenas cria uma outra referência (ponteiro) ao mesmo objeto na memória"
   ]
  },
  {
   "cell_type": "code",
   "execution_count": 78,
   "metadata": {},
   "outputs": [],
   "source": []
  },
  {
   "cell_type": "code",
   "execution_count": null,
   "metadata": {},
   "outputs": [],
   "source": []
  },
  {
   "cell_type": "code",
   "execution_count": null,
   "metadata": {},
   "outputs": [],
   "source": []
  },
  {
   "cell_type": "code",
   "execution_count": null,
   "metadata": {
    "scrolled": true
   },
   "outputs": [],
   "source": []
  },
  {
   "cell_type": "markdown",
   "metadata": {},
   "source": [
    "Note acima que o preço em prod também foi alterado!!<br>\n",
    "Isso porque ambas variáveis apontam para o mesmo objeto, veja abaixo:"
   ]
  },
  {
   "cell_type": "code",
   "execution_count": null,
   "metadata": {},
   "outputs": [],
   "source": []
  },
  {
   "cell_type": "markdown",
   "metadata": {},
   "source": [
    "### Deep copy"
   ]
  },
  {
   "cell_type": "markdown",
   "metadata": {},
   "source": [
    "A forma de evitar esse efeito é fazer uma cópia real da mesma usando a função deepcopy do módulo copy.<br>\n",
    "O modulo copy, permite que sejam feitas cópias reais (deep copy). Possui duas funções, a <b>copy</b> que faz uma cópia leve ou superficial (shallow copy) e <b>deepcopy</b> que faz uma cópia real (deep copy). <br>\n",
    "Nesse último caso, além da nova instância, um novo conjunto de dados é criado. Necessário importar o módulo copy (import copy)."
   ]
  },
  {
   "cell_type": "code",
   "execution_count": 85,
   "metadata": {},
   "outputs": [],
   "source": []
  },
  {
   "cell_type": "code",
   "execution_count": 86,
   "metadata": {},
   "outputs": [],
   "source": []
  },
  {
   "cell_type": "code",
   "execution_count": null,
   "metadata": {},
   "outputs": [],
   "source": []
  },
  {
   "cell_type": "code",
   "execution_count": null,
   "metadata": {},
   "outputs": [],
   "source": []
  },
  {
   "cell_type": "code",
   "execution_count": null,
   "metadata": {},
   "outputs": [],
   "source": []
  },
  {
   "cell_type": "markdown",
   "metadata": {},
   "source": [
    "Agora sim, os preços são diferentes, a alteração do preço de pc1 não alterou o preço em prod pois as variáveis apontam para diferentes objetos na memória"
   ]
  },
  {
   "cell_type": "code",
   "execution_count": null,
   "metadata": {},
   "outputs": [],
   "source": []
  },
  {
   "cell_type": "markdown",
   "metadata": {},
   "source": [
    "### Sugestão de leitura\n",
    "#### A Guide to Python's Magic Methods\n",
    "https://rszalski.github.io/magicmethods/#construction"
   ]
  },
  {
   "cell_type": "markdown",
   "metadata": {},
   "source": [
    "# Atividade"
   ]
  },
  {
   "cell_type": "markdown",
   "metadata": {},
   "source": [
    "Altere o módulo aula_poo.py incluindo um bloco de código, não executável na importação do mesmo, contendo os códigos dos testes das classes Produto e ProdutoCritico que fizemos nesse notebook.<br>\n",
    "<br>\n",
    "**Envie no Teams até as 18:59 de segunda dia 14/10/2024.**"
   ]
  },
  {
   "cell_type": "code",
   "execution_count": null,
   "metadata": {},
   "outputs": [],
   "source": []
  }
 ],
 "metadata": {
  "kernelspec": {
   "display_name": "Python 3",
   "language": "python",
   "name": "python3"
  },
  "language_info": {
   "codemirror_mode": {
    "name": "ipython",
    "version": 3
   },
   "file_extension": ".py",
   "mimetype": "text/x-python",
   "name": "python",
   "nbconvert_exporter": "python",
   "pygments_lexer": "ipython3",
   "version": "3.12.4"
  }
 },
 "nbformat": 4,
 "nbformat_minor": 4
}
